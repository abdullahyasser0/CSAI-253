{
  "nbformat": 4,
  "nbformat_minor": 0,
  "metadata": {
    "colab": {
      "provenance": [],
      "authorship_tag": "ABX9TyMSeWXbULj8ETA2pPF6Jwbe",
      "include_colab_link": true
    },
    "kernelspec": {
      "name": "python3",
      "display_name": "Python 3"
    },
    "language_info": {
      "name": "python"
    }
  },
  "cells": [
    {
      "cell_type": "markdown",
      "metadata": {
        "id": "view-in-github",
        "colab_type": "text"
      },
      "source": [
        "<a href=\"https://colab.research.google.com/github/abdullahyasser0/DSAI-253/blob/main/Assignment_1.ipynb\" target=\"_parent\"><img src=\"https://colab.research.google.com/assets/colab-badge.svg\" alt=\"Open In Colab\"/></a>"
      ]
    },
    {
      "cell_type": "markdown",
      "source": [
        "#Importing"
      ],
      "metadata": {
        "id": "8gv8yepifeMH"
      }
    },
    {
      "cell_type": "code",
      "execution_count": 2,
      "metadata": {
        "colab": {
          "base_uri": "https://localhost:8080/"
        },
        "id": "bNlw_MwGeooc",
        "outputId": "b142183e-3d54-4397-9dea-f78a71801dde"
      },
      "outputs": [
        {
          "output_type": "stream",
          "name": "stdout",
          "text": [
            "Mounted at /content/drive\n"
          ]
        }
      ],
      "source": [
        "from google.colab import drive\n",
        "drive.mount('/content/drive')"
      ]
    },
    {
      "cell_type": "code",
      "source": [
        "import numpy as np\n",
        "import pandas as pd\n",
        "import statistics\n",
        "from sklearn.model_selection import train_test_split"
      ],
      "metadata": {
        "id": "gKSRAWkjewev"
      },
      "execution_count": 3,
      "outputs": []
    },
    {
      "cell_type": "code",
      "source": [
        "df=pd.read_csv('/content/drive/MyDrive/csai 253/Iris.csv')\n"
      ],
      "metadata": {
        "id": "pDqzic98eyZH"
      },
      "execution_count": 4,
      "outputs": []
    },
    {
      "cell_type": "markdown",
      "source": [
        "#ALGORITHM"
      ],
      "metadata": {
        "id": "nVqPTq9IgE6X"
      }
    },
    {
      "cell_type": "markdown",
      "source": [
        "Add new prediction col"
      ],
      "metadata": {
        "id": "jytJjqVXfiCn"
      }
    },
    {
      "cell_type": "code",
      "source": [
        "df['predict']=\"\""
      ],
      "metadata": {
        "id": "yjyH1AzBe1uv"
      },
      "execution_count": 5,
      "outputs": []
    },
    {
      "cell_type": "markdown",
      "source": [
        "Split the data"
      ],
      "metadata": {
        "id": "1zNdCOYcfuqX"
      }
    },
    {
      "cell_type": "code",
      "source": [
        "train,test= train_test_split(df ,test_size=0.2, random_state=42)"
      ],
      "metadata": {
        "id": "SNePRYWte3D3"
      },
      "execution_count": 6,
      "outputs": []
    },
    {
      "cell_type": "code",
      "source": [
        "train.reset_index(inplace=True)\n",
        "test.reset_index(inplace=True)"
      ],
      "metadata": {
        "id": "7327mN9Xe4g4"
      },
      "execution_count": 7,
      "outputs": []
    },
    {
      "cell_type": "code",
      "source": [
        "def most_repeated(lst):\n",
        "    max_count = 0\n",
        "    most_repeated_element = None\n",
        "\n",
        "    for item in lst:\n",
        "        count = lst.count(item)\n",
        "        if count > max_count:\n",
        "            max_count = count\n",
        "            most_repeated_element = item\n",
        "\n",
        "    return most_repeated_element"
      ],
      "metadata": {
        "id": "0Qs-JQ6be56v"
      },
      "execution_count": 8,
      "outputs": []
    },
    {
      "cell_type": "markdown",
      "source": [
        "Euclidean distance"
      ],
      "metadata": {
        "id": "FeFTwKoafzMW"
      }
    },
    {
      "cell_type": "code",
      "source": [
        "for i in range(len(test)):\n",
        "    eq = []\n",
        "    for j in range(len(train)):\n",
        "        eq.append([(test['SepalLengthCm'][i] - train['SepalLengthCm'][j])**2 +\n",
        "                   (test['SepalWidthCm'][i] - train['SepalWidthCm'][j])**2 +\n",
        "                   (test['PetalLengthCm'][i] - train['PetalLengthCm'][j])**2 +\n",
        "                   (test['PetalWidthCm'][i] - train['PetalWidthCm'][j])**2,\n",
        "                   train['Species'][j]])\n",
        "    eq.sort()\n",
        "    winner = most_repeated(eq[0:7]) # THE K IS HERE\n",
        "    test['predict'][i]=winner[1]"
      ],
      "metadata": {
        "colab": {
          "base_uri": "https://localhost:8080/"
        },
        "id": "4agY1Ydze7LH",
        "outputId": "6c36425b-224f-4f32-88a6-55123bfd2352"
      },
      "execution_count": 9,
      "outputs": [
        {
          "output_type": "stream",
          "name": "stderr",
          "text": [
            "<ipython-input-9-66d8076b3c17>:11: SettingWithCopyWarning: \n",
            "A value is trying to be set on a copy of a slice from a DataFrame\n",
            "\n",
            "See the caveats in the documentation: https://pandas.pydata.org/pandas-docs/stable/user_guide/indexing.html#returning-a-view-versus-a-copy\n",
            "  test['predict'][i]=winner[1]\n"
          ]
        }
      ]
    },
    {
      "cell_type": "markdown",
      "source": [
        "Calculate accuracy"
      ],
      "metadata": {
        "id": "suW0lJJ9f7GP"
      }
    },
    {
      "cell_type": "code",
      "source": [
        "acc=0\n",
        "for i in range(len(test)):\n",
        "  if(test['Species'][i]==test['predict'][i]):\n",
        "    acc+=1\n",
        "print((acc/len(test))*100,\"%\")"
      ],
      "metadata": {
        "colab": {
          "base_uri": "https://localhost:8080/"
        },
        "id": "EGUPMy5Ze8gH",
        "outputId": "6aa5b908-2fd0-438e-8a0c-8023ecbe937b"
      },
      "execution_count": 10,
      "outputs": [
        {
          "output_type": "stream",
          "name": "stdout",
          "text": [
            "100.0 %\n"
          ]
        }
      ]
    },
    {
      "cell_type": "markdown",
      "source": [
        "Noramlization"
      ],
      "metadata": {
        "id": "26O12JcNgBZg"
      }
    },
    {
      "cell_type": "code",
      "source": [
        "for i in range(1,5):\n",
        "  mean=df.iloc[:, i].mean()\n",
        "  std=statistics.stdev(df.iloc[:, i])\n",
        "  for j in range(len( df.iloc[:, i])):\n",
        "    df.iloc[:, i][j]=(df.iloc[:, i][j]-mean)/std\n"
      ],
      "metadata": {
        "colab": {
          "base_uri": "https://localhost:8080/"
        },
        "id": "VUKI_x6Ae90_",
        "outputId": "b64db413-a9e7-4fa4-bce6-3c27c67f5393"
      },
      "execution_count": 11,
      "outputs": [
        {
          "output_type": "stream",
          "name": "stderr",
          "text": [
            "<ipython-input-11-072c8eb251f0>:5: SettingWithCopyWarning: \n",
            "A value is trying to be set on a copy of a slice from a DataFrame\n",
            "\n",
            "See the caveats in the documentation: https://pandas.pydata.org/pandas-docs/stable/user_guide/indexing.html#returning-a-view-versus-a-copy\n",
            "  df.iloc[:, i][j]=(df.iloc[:, i][j]-mean)/std\n"
          ]
        }
      ]
    }
  ]
}